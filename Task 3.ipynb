{
 "cells": [
  {
   "cell_type": "code",
   "execution_count": 22,
   "metadata": {},
   "outputs": [
    {
     "name": "stdout",
     "output_type": "stream",
     "text": [
      "#########\n",
      "#\t#\n",
      "#\t#\n",
      "#\t#\n",
      "#########\n"
     ]
    }
   ],
   "source": [
    "print(\"#########\", end =\"\\n\")\n",
    "print(\"#\\t#\")\n",
    "print(\"#\\t#\")\n",
    "print(\"#\\t#\")\n",
    "print(\"#########\", end =\"\\n\")"
   ]
  },
  {
   "cell_type": "code",
   "execution_count": 30,
   "metadata": {},
   "outputs": [
    {
     "name": "stdout",
     "output_type": "stream",
     "text": [
      "#\t#\n",
      "#\t#\n",
      "#########\n",
      "#\t#\n",
      "#\t#\n"
     ]
    }
   ],
   "source": [
    "print(\"#\\t#\", end = \"\\n\")\n",
    "print(\"#\\t#\", end = \"\\n\")\n",
    "print(\"#########\",end = \"\\n\")\n",
    "print(\"#\\t#\", end = \"\\n\")\n",
    "print(\"#\\t#\", end = \"\\n\")"
   ]
  },
  {
   "cell_type": "code",
   "execution_count": null,
   "metadata": {},
   "outputs": [],
   "source": []
  }
 ],
 "metadata": {
  "kernelspec": {
   "display_name": "Python 3",
   "language": "python",
   "name": "python3"
  },
  "language_info": {
   "codemirror_mode": {
    "name": "ipython",
    "version": 3
   },
   "file_extension": ".py",
   "mimetype": "text/x-python",
   "name": "python",
   "nbconvert_exporter": "python",
   "pygments_lexer": "ipython3",
   "version": "3.7.6"
  }
 },
 "nbformat": 4,
 "nbformat_minor": 4
}
