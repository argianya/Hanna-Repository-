{
 "cells": [
  {
   "cell_type": "code",
   "execution_count": 6,
   "metadata": {},
   "outputs": [
    {
     "name": "stdout",
     "output_type": "stream",
     "text": [
      "Your biggest number is 8833\n"
     ]
    }
   ],
   "source": [
    "#The greatest number. Version 1 \n",
    "import random\n",
    "index = 0\n",
    "random_numbers = [random.randint(1, 10000), random.randint(1, 10000), random.randint(1, 10000), random.randint(1, 10000), random.randint(1, 10000), random.randint(1, 10000), random.randint(1, 10000), random.randint(1, 10000), random.randint(1, 10000), random.randint(1, 10000)] \n",
    "max_result = max(random_numbers)\n",
    "while index < max_result:\n",
    "    index = index + 1\n",
    "    if index == max_result:\n",
    "        print(\"Your biggest number is\", index)"
   ]
  },
  {
   "cell_type": "code",
   "execution_count": 107,
   "metadata": {},
   "outputs": [
    {
     "name": "stdout",
     "output_type": "stream",
     "text": [
      "[4774, 9538, 9595, 7273, 6339, 823, 2161, 9247, 5032, 9680]\n",
      "9680\n",
      "Your biggest number is 9680\n"
     ]
    }
   ],
   "source": [
    "#The greatest number. Version 1.1 (Here you can check whether results are correct)\n",
    "import random\n",
    "index = 0\n",
    "random_numbers = [random.randint(1, 10000), random.randint(1, 10000), random.randint(1, 10000), random.randint(1, 10000), random.randint(1, 10000), random.randint(1, 10000), random.randint(1, 10000), random.randint(1, 10000), random.randint(1, 10000), random.randint(1, 10000)] \n",
    "print(random_numbers)\n",
    "max_result = max(random_numbers)\n",
    "print(max_result)\n",
    "while index < max_result:\n",
    "    index = index + 1\n",
    "    if index == max_result:\n",
    "        print(\"Your biggest number is\", index)"
   ]
  },
  {
   "cell_type": "code",
   "execution_count": 151,
   "metadata": {},
   "outputs": [
    {
     "name": "stdout",
     "output_type": "stream",
     "text": [
      "[9, 4, 5]\n"
     ]
    }
   ],
   "source": [
    "#Task 2 Exclusive common numbers.\n",
    "first_list = [random.randint(1, 10), random.randint(1, 10), random.randint(1, 10), random.randint(1, 10), random.randint(1, 10), random.randint(1, 10), random.randint(1, 10), random.randint(1, 10), random.randint(1, 10), random.randint(1, 10)] \n",
    "second_list = [random.randint(1, 10), random.randint(1, 10), random.randint(1, 10), random.randint(1, 10), random.randint(1, 10), random.randint(1, 10), random.randint(1, 10), random.randint(1, 10), random.randint(1, 10), random.randint(1, 10)] \n",
    "common_set = set(first_list).intersection(second_list)\n",
    "while True:\n",
    "    common_list = list(common_set)\n",
    "    print (common_list)\n",
    "    break \n",
    "else:\n",
    "    print(\"Try again later\")\n"
   ]
  },
  {
   "cell_type": "code",
   "execution_count": 3,
   "metadata": {},
   "outputs": [
    {
     "name": "stdout",
     "output_type": "stream",
     "text": [
      "[7, 14, 21, 28, 42, 49, 56, 63, 77, 84, 91, 98]\n"
     ]
    }
   ],
   "source": [
    "#Task 3. Extracting numbers. \n",
    "new_integers = list(range(1,101))\n",
    "new_list = []\n",
    "result = []\n",
    "index = 0\n",
    "while True:\n",
    "    item = new_integers[index]\n",
    "    if item % 7 == 0 and item % 5 != 0:\n",
    "        result.append(item)\n",
    "    index += 1\n",
    "    if index >= len(new_integers):\n",
    "        break \n",
    "print(result)"
   ]
  },
  {
   "cell_type": "code",
   "execution_count": null,
   "metadata": {},
   "outputs": [],
   "source": []
  },
  {
   "cell_type": "code",
   "execution_count": null,
   "metadata": {},
   "outputs": [],
   "source": []
  }
 ],
 "metadata": {
  "kernelspec": {
   "display_name": "Python 3",
   "language": "python",
   "name": "python3"
  },
  "language_info": {
   "codemirror_mode": {
    "name": "ipython",
    "version": 3
   },
   "file_extension": ".py",
   "mimetype": "text/x-python",
   "name": "python",
   "nbconvert_exporter": "python",
   "pygments_lexer": "ipython3",
   "version": "3.7.6"
  }
 },
 "nbformat": 4,
 "nbformat_minor": 4
}
