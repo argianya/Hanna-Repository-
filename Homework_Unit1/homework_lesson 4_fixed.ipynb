{
 "cells": [
  {
   "cell_type": "code",
   "execution_count": 24,
   "metadata": {},
   "outputs": [
    {
     "name": "stdout",
     "output_type": "stream",
     "text": [
      "Let's play a game. Guess the number. You can choose from 1 to 106\n",
      "Nice try! But the number was: \n",
      "3\n"
     ]
    }
   ],
   "source": [
    "#Task1\n",
    "import random\n",
    "start = int(input(\"Let's play a game. Guess the number. You can choose from 1 to 10\"))\n",
    "number = random.randint(1, 10)\n",
    "if start == number:\n",
    "    print('Excellent result. It \\'s really ') \n",
    "    print(number)\n",
    "elif start != number:\n",
    "    print('Nice try! But the number was: ') \n",
    "    print(number)"
   ]
  },
  {
   "cell_type": "code",
   "execution_count": 22,
   "metadata": {},
   "outputs": [
    {
     "name": "stdout",
     "output_type": "stream",
     "text": [
      "What is your name?hanna\n",
      "And what is your age?23\n",
      "Hello Hanna, on your next birthday you will be 24 years\n"
     ]
    }
   ],
   "source": [
    "#Task 2\n",
    "name = input(\"What is your name?\")\n",
    "age = int(input('And what is your age?'))\n",
    "age = age + 1\n",
    "print(f'Hello {name.capitalize()}, on your next birthday you will be {age} years')\n"
   ]
  },
  {
   "cell_type": "code",
   "execution_count": 17,
   "metadata": {},
   "outputs": [
    {
     "name": "stdout",
     "output_type": "stream",
     "text": [
      "Name a word you likeronald\n",
      "['raodnl', 'nrdola', 'roaldn', 'oarndl', 'dlarno']\n"
     ]
    }
   ],
   "source": [
    "#Task 3\n",
    "import random\n",
    "\n",
    "word = input(\"Name a word you like\")\n",
    "shuffled_word = ''.join(random.sample(word, len(word)))\n",
    "new_list = []\n",
    "index = 0\n",
    "while True:\n",
    "    index = index + 1\n",
    "    if index <= 5:\n",
    "        shuffled_word = ''.join(random.sample(word, len(word))) \n",
    "        new_list.append(shuffled_word)\n",
    "    else:\n",
    "        break \n",
    "print(new_list)\n",
    "    \n"
   ]
  },
  {
   "cell_type": "code",
   "execution_count": null,
   "metadata": {},
   "outputs": [],
   "source": [
    "#Task 4 The math quiz program\n",
    "answer = int(input (\"Do the following task: 124//2 = \"))\n",
    "if answer == 124//2:\n",
    "    print(\"Great job! It's really is:\") \n",
    "    print(124//2)\n",
    "else:\n",
    "    print(\"Try again! Your result is incorrect\")\n",
    "\n"
   ]
  }
 ],
 "metadata": {
  "kernelspec": {
   "display_name": "Python 3",
   "language": "python",
   "name": "python3"
  },
  "language_info": {
   "codemirror_mode": {
    "name": "ipython",
    "version": 3
   },
   "file_extension": ".py",
   "mimetype": "text/x-python",
   "name": "python",
   "nbconvert_exporter": "python",
   "pygments_lexer": "ipython3",
   "version": "3.7.6"
  }
 },
 "nbformat": 4,
 "nbformat_minor": 4
}
