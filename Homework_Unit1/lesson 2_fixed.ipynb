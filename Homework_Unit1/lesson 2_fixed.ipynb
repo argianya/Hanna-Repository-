{
 "cells": [
  {
   "cell_type": "markdown",
   "metadata": {
    "heading_collapsed": true
   },
   "source": [
    "# Task 1"
   ]
  },
  {
   "cell_type": "code",
   "execution_count": 12,
   "metadata": {
    "hidden": true
   },
   "outputs": [
    {
     "name": "stdout",
     "output_type": "stream",
     "text": [
      "Good day Hanna! Tuesday is a perfect day to learn Python\n"
     ]
    }
   ],
   "source": [
    "#method1\n",
    "name = \"Hanna\"\n",
    "day = \"Tuesday\"\n",
    "print(f\"Good day {name}! {day} is a perfect day to learn Python\")\n"
   ]
  },
  {
   "cell_type": "code",
   "execution_count": 5,
   "metadata": {
    "hidden": true
   },
   "outputs": [
    {
     "name": "stdout",
     "output_type": "stream",
     "text": [
      "Good day Hanna! Tuesday is a perfect day to learn Python\n"
     ]
    }
   ],
   "source": [
    "#method2\n",
    "s = \"Good day {}! {} is a perfect day to learn Python\"\n",
    "print(s.format(name, day))"
   ]
  },
  {
   "cell_type": "code",
   "execution_count": 8,
   "metadata": {
    "hidden": true
   },
   "outputs": [
    {
     "name": "stdout",
     "output_type": "stream",
     "text": [
      "Good day Hanna! Tuesday is a perfect day to learn Python\n"
     ]
    }
   ],
   "source": [
    "#method2.2\n",
    "s = \"Good day {1}! {0} is a perfect day to learn Python\"\n",
    "print(s.format(day, name))"
   ]
  },
  {
   "cell_type": "code",
   "execution_count": 11,
   "metadata": {
    "hidden": true
   },
   "outputs": [
    {
     "name": "stdout",
     "output_type": "stream",
     "text": [
      "Good day Hanna! Tuesday is a perfect day to learn Python\n"
     ]
    }
   ],
   "source": [
    "#method3\n",
    "print(\"Good day %s! %s is a perfect day to learn Python\" %(name, day))\n"
   ]
  },
  {
   "cell_type": "markdown",
   "metadata": {
    "heading_collapsed": true
   },
   "source": [
    "# Task 2"
   ]
  },
  {
   "cell_type": "code",
   "execution_count": 37,
   "metadata": {
    "hidden": true
   },
   "outputs": [
    {
     "name": "stdout",
     "output_type": "stream",
     "text": [
      "Hello Hanna Arhirova! Nice to see you here!\n"
     ]
    }
   ],
   "source": [
    "#method1\n",
    "first_name = \"Hanna\"\n",
    "last_name = \"Arhirova\"\n",
    "together = first_name + \" \" + last_name\n",
    "print(f\"Hello {together}! Nice to see you here!\")"
   ]
  },
  {
   "cell_type": "code",
   "execution_count": 38,
   "metadata": {
    "hidden": true
   },
   "outputs": [
    {
     "name": "stdout",
     "output_type": "stream",
     "text": [
      "Hello Hanna Arhirova! Nice to see you here!\n"
     ]
    }
   ],
   "source": [
    "#method2\n",
    "first = \"Hanna\"\n",
    "first += \" \"\n",
    "first += \"Arhirova\"\n",
    "print(f\"Hello {first}! Nice to see you here!\")"
   ]
  },
  {
   "cell_type": "markdown",
   "metadata": {},
   "source": [
    "# Task 3"
   ]
  },
  {
   "cell_type": "code",
   "execution_count": 1,
   "metadata": {},
   "outputs": [
    {
     "name": "stdout",
     "output_type": "stream",
     "text": [
      "3\n",
      "13\n",
      "-1.6\n",
      "-40\n",
      "64\n",
      "-2\n",
      "5\n"
     ]
    }
   ],
   "source": [
    "#Using python as a calculator\n",
    "a=8\n",
    "b=-5\n",
    "print(a+b)\n",
    "print (a-b)\n",
    "print(a/b)\n",
    "print (a*b)\n",
    "print(a**2)\n",
    "print (a//b)\n",
    "print(abs(b))\n",
    "\n",
    "\n"
   ]
  },
  {
   "cell_type": "code",
   "execution_count": null,
   "metadata": {},
   "outputs": [],
   "source": []
  }
 ],
 "metadata": {
  "kernelspec": {
   "display_name": "Python 3",
   "language": "python",
   "name": "python3"
  },
  "language_info": {
   "codemirror_mode": {
    "name": "ipython",
    "version": 3
   },
   "file_extension": ".py",
   "mimetype": "text/x-python",
   "name": "python",
   "nbconvert_exporter": "python",
   "pygments_lexer": "ipython3",
   "version": "3.7.6"
  }
 },
 "nbformat": 4,
 "nbformat_minor": 4
}
