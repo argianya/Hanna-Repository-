{
 "cells": [
  {
   "cell_type": "code",
   "execution_count": 1,
   "metadata": {},
   "outputs": [
    {
     "name": "stdout",
     "output_type": "stream",
     "text": [
      "{'Learning': 1, 'Python': 2, 'is': 2, 'extremely': 1, 'interesting!': 1, 'an': 1, 'interesting': 1, 'tool': 1, 'to': 1, 'work': 1, 'with': 1, 'data': 1}\n"
     ]
    }
   ],
   "source": [
    "#Task 1\n",
    "my_sentence = \"Learning Python is extremely interesting! Python is an interesting tool to work with data\".split()\n",
    "learning_dictionary = {}\n",
    "for word in my_sentence:\n",
    "    if word in learning_dictionary:\n",
    "        learning_dictionary[word]+=1\n",
    "    else:\n",
    "        learning_dictionary[word]=1\n",
    "print(learning_dictionary)"
   ]
  },
  {
   "cell_type": "code",
   "execution_count": 2,
   "metadata": {},
   "outputs": [
    {
     "name": "stdout",
     "output_type": "stream",
     "text": [
      "[(1, 1), (2, 4), (3, 9), (4, 16), (5, 25), (6, 36), (7, 49), (8, 64), (9, 81), (10, 100)]\n"
     ]
    }
   ],
   "source": [
    "#List comprehension exercise\n",
    "new_list = [(i, i**2) for i in range(1, 11)]     \n",
    "print(new_list)"
   ]
  },
  {
   "cell_type": "code",
   "execution_count": 4,
   "metadata": {},
   "outputs": [
    {
     "name": "stdout",
     "output_type": "stream",
     "text": [
      "[24, 0, 48.0, 45]\n",
      "117.0\n"
     ]
    }
   ],
   "source": [
    "#Dictionary\n",
    "stock = {\n",
    "    \"banana\": 6,\n",
    "    \"apple\": 0,\n",
    "    \"orange\": 32,\n",
    "    \"pear\": 15\n",
    "}\n",
    "prices = {\n",
    "    \"banana\": 4,\n",
    "    \"apple\": 2,\n",
    "    \"orange\": 1.5,\n",
    "    \"pear\": 3\n",
    "}\n",
    "definite_total = []\n",
    "for each in prices:\n",
    "    total: int = prices[each] * stock[each]\n",
    "    definite_total.append(total)\n",
    "print(definite_total)\n",
    "print(sum(definite_total))"
   ]
  },
  {
   "cell_type": "code",
   "execution_count": null,
   "metadata": {},
   "outputs": [],
   "source": []
  }
 ],
 "metadata": {
  "kernelspec": {
   "display_name": "Python 3",
   "language": "python",
   "name": "python3"
  },
  "language_info": {
   "codemirror_mode": {
    "name": "ipython",
    "version": 3
   },
   "file_extension": ".py",
   "mimetype": "text/x-python",
   "name": "python",
   "nbconvert_exporter": "python",
   "pygments_lexer": "ipython3",
   "version": "3.7.6"
  }
 },
 "nbformat": 4,
 "nbformat_minor": 4
}
