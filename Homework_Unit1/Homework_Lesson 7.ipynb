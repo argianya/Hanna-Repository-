{
 "cells": [
  {
   "cell_type": "code",
   "execution_count": 3,
   "metadata": {},
   "outputs": [
    {
     "data": {
      "text/plain": [
       "'My favorite movie is named Euphoria'"
      ]
     },
     "execution_count": 3,
     "metadata": {},
     "output_type": "execute_result"
    }
   ],
   "source": [
    "#Task 1\n",
    "#A simple function.\n",
    "#Create a simple function called favorite_movie, which takes a string \n",
    "#containing the name of your favorite movie. The function should then print “My favorite movie is named {name}”.\n",
    "name = \"Euphoria\"\n",
    "def favourite_movie(name):\n",
    "    return(f\"My favorite movie is named {name}\")\n",
    "favourite_movie(name)"
   ]
  },
  {
   "cell_type": "code",
   "execution_count": 10,
   "metadata": {},
   "outputs": [
    {
     "data": {
      "text/plain": [
       "{'ukraine': 'kyiv'}"
      ]
     },
     "execution_count": 10,
     "metadata": {},
     "output_type": "execute_result"
    }
   ],
   "source": [
    "#Task 2\n",
    "\n",
    "#Creating a dictionary.\n",
    "name = \"ukraine\"\n",
    "capital = \"kyiv\"\n",
    "\n",
    "def make_country(name, capital):\n",
    "    dictionary = {name: capital}\n",
    "    return dictionary\n",
    "make_country(name, capital)"
   ]
  },
  {
   "cell_type": "code",
   "execution_count": 40,
   "metadata": {},
   "outputs": [
    {
     "name": "stdout",
     "output_type": "stream",
     "text": [
      "Select one of the following operations: +, -, *-\n"
     ]
    },
    {
     "data": {
      "text/plain": [
       "5"
      ]
     },
     "execution_count": 40,
     "metadata": {},
     "output_type": "execute_result"
    }
   ],
   "source": [
    "#Task 3\n",
    "#A simple calculator.\n",
    "operation = input(\"Select one of the following operations: +, -, *\")\n",
    "def make_operation(operation, *args):\n",
    "    if operation == \"+\":\n",
    "        result = 0\n",
    "        for number in args:\n",
    "            result += number\n",
    "        return result\n",
    "    elif operation == \"-\":\n",
    "        result = 0\n",
    "        for number in args:\n",
    "            result = number - result  \n",
    "        return result\n",
    "    elif operation == \"*\":\n",
    "        result = 1\n",
    "        for number in args:\n",
    "            result *= number\n",
    "        return result        \n",
    "make_operation(operation, 3, 8)\n",
    "    "
   ]
  },
  {
   "cell_type": "code",
   "execution_count": null,
   "metadata": {},
   "outputs": [],
   "source": []
  }
 ],
 "metadata": {
  "kernelspec": {
   "display_name": "Python 3",
   "language": "python",
   "name": "python3"
  },
  "language_info": {
   "codemirror_mode": {
    "name": "ipython",
    "version": 3
   },
   "file_extension": ".py",
   "mimetype": "text/x-python",
   "name": "python",
   "nbconvert_exporter": "python",
   "pygments_lexer": "ipython3",
   "version": "3.7.6"
  }
 },
 "nbformat": 4,
 "nbformat_minor": 4
}
