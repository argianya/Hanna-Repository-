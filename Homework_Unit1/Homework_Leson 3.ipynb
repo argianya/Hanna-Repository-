{
 "cells": [
  {
   "cell_type": "code",
   "execution_count": 108,
   "metadata": {},
   "outputs": [
    {
     "name": "stdout",
     "output_type": "stream",
     "text": [
      "Write your favourite word:п\n",
      "\n"
     ]
    }
   ],
   "source": [
    "#Task1\n",
    "x = input(\"Write your favourite word:\") \n",
    "if len(x) >= 2:\n",
    "    print(x[:2] + x[-2:])\n",
    "elif len (x) < 2:\n",
    "    result = \"\"\n",
    "    print(result)"
   ]
  },
  {
   "cell_type": "code",
   "execution_count": 11,
   "metadata": {},
   "outputs": [
    {
     "name": "stdout",
     "output_type": "stream",
     "text": [
      "Please, write your number here (without country code):90563\n",
      "Incorrect phone number. Please try again.\n"
     ]
    }
   ],
   "source": [
    "#Task2\n",
    "y = input(\"Please, write your number here (without country code):\")\n",
    "if len(y) == 10 and y.isdigit():\n",
    "    print(\"Great job!\")\n",
    "elif y.isalpha():\n",
    "    print(\"Oops seems like you entered some letters. Please try to write your phone number again\") \n",
    "else:\n",
    "    print(\"Incorrect phone number. Please try again.\") \n"
   ]
  },
  {
   "cell_type": "code",
   "execution_count": 9,
   "metadata": {},
   "outputs": [
    {
     "name": "stdout",
     "output_type": "stream",
     "text": [
      "What is your name?Oleg\n",
      "Hm, seems like you aren't Hanna. Please try again later\n"
     ]
    }
   ],
   "source": [
    "#Task3\n",
    "my_name = \"hanna\"\n",
    "z = input(\"What is your name?\")\n",
    "if z.lower() == my_name:\n",
    "    print(f\"Great job! Nice to see you {my_name.capitalize()}\")\n",
    "else:\n",
    "    print(f\"Hm, seems like you aren't {my_name.capitalize()}. Please try again later\")\n"
   ]
  },
  {
   "cell_type": "code",
   "execution_count": null,
   "metadata": {},
   "outputs": [],
   "source": []
  }
 ],
 "metadata": {
  "kernelspec": {
   "display_name": "Python 3",
   "language": "python",
   "name": "python3"
  },
  "language_info": {
   "codemirror_mode": {
    "name": "ipython",
    "version": 3
   },
   "file_extension": ".py",
   "mimetype": "text/x-python",
   "name": "python",
   "nbconvert_exporter": "python",
   "pygments_lexer": "ipython3",
   "version": "3.7.6"
  }
 },
 "nbformat": 4,
 "nbformat_minor": 4
}
