{
 "cells": [
  {
   "cell_type": "code",
   "execution_count": 108,
   "metadata": {},
   "outputs": [
    {
     "name": "stdout",
     "output_type": "stream",
     "text": [
      "Write your favourite word:п\n",
      "\n"
     ]
    }
   ],
   "source": [
    "#Task1\n",
    "x = input(\"Write your favourite word:\") \n",
    "if len(x) >= 2:\n",
    "    print(x[:2] + x[-2:])\n",
    "elif len (x) < 2:\n",
    "    result = \"\"\n",
    "    print(result)"
   ]
  },
  {
   "cell_type": "code",
   "execution_count": 112,
   "metadata": {},
   "outputs": [
    {
     "name": "stdout",
     "output_type": "stream",
     "text": [
      "Please, write your number here (without country code):0509218953\n",
      "Great job!\n"
     ]
    }
   ],
   "source": [
    "#Task2\n",
    "y = input(\"Please, write your number here (without country code):\")\n",
    "if len(y) == 10 and y.isdigit():\n",
    "    print(\"Great job!\")\n",
    "elif y.isalpha():\n",
    "    print(\"Oops seems like you entered some letters. Please try to write your phone number again:\")\n",
    "else:\n",
    "    input (\"Incorrect phone number. Please try again.\") \n"
   ]
  },
  {
   "cell_type": "code",
   "execution_count": 177,
   "metadata": {},
   "outputs": [
    {
     "name": "stdout",
     "output_type": "stream",
     "text": [
      "What is your name?GJGJGJ\n",
      "False\n"
     ]
    }
   ],
   "source": [
    "#Task3\n",
    "my_name = \"hanna\"\n",
    "z = input(\"What is your name?\")\n",
    "if z.lower() == my_name:\n",
    "    print(True)\n",
    "else:\n",
    "    print(False)\n"
   ]
  },
  {
   "cell_type": "code",
   "execution_count": null,
   "metadata": {},
   "outputs": [],
   "source": []
  }
 ],
 "metadata": {
  "kernelspec": {
   "display_name": "Python 3",
   "language": "python",
   "name": "python3"
  },
  "language_info": {
   "codemirror_mode": {
    "name": "ipython",
    "version": 3
   },
   "file_extension": ".py",
   "mimetype": "text/x-python",
   "name": "python",
   "nbconvert_exporter": "python",
   "pygments_lexer": "ipython3",
   "version": "3.7.6"
  }
 },
 "nbformat": 4,
 "nbformat_minor": 4
}
