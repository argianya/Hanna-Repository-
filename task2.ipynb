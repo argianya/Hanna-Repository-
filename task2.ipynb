{
 "cells": [
  {
   "cell_type": "code",
   "execution_count": 6,
   "metadata": {},
   "outputs": [
    {
     "name": "stdout",
     "output_type": "stream",
     "text": [
      "I___like___studying___Python\n"
     ]
    }
   ],
   "source": [
    "#I___like___studying___Python\n",
    "print(\"I\",\"like\",\"studying\",\"Python\",sep = \"___\")"
   ]
  },
  {
   "cell_type": "code",
   "execution_count": 20,
   "metadata": {},
   "outputs": [
    {
     "name": "stdout",
     "output_type": "stream",
     "text": [
      "My favourite numbers are:\n",
      "3,4,9\n",
      "My favourite languages are:\n",
      "Spanish|English|French\n"
     ]
    }
   ],
   "source": [
    "#My favourite numbers are:\n",
    "#3,4,9\n",
    "#My favourite languages are:\n",
    "#Spanish|English|French\n",
    "print(\"My favourite numbers are\", end = \":\\n\")\n",
    "print(\"3,4,9\")\n",
    "print(\"My favourite languages are\", end = \":\\n\")\n",
    "print(\"Spanish\", \"English\", \"French\", sep = \"|\", end = \"\\n\")\n"
   ]
  },
  {
   "cell_type": "code",
   "execution_count": null,
   "metadata": {},
   "outputs": [],
   "source": []
  }
 ],
 "metadata": {
  "kernelspec": {
   "display_name": "Python 3",
   "language": "python",
   "name": "python3"
  },
  "language_info": {
   "codemirror_mode": {
    "name": "ipython",
    "version": 3
   },
   "file_extension": ".py",
   "mimetype": "text/x-python",
   "name": "python",
   "nbconvert_exporter": "python",
   "pygments_lexer": "ipython3",
   "version": "3.7.6"
  }
 },
 "nbformat": 4,
 "nbformat_minor": 4
}
